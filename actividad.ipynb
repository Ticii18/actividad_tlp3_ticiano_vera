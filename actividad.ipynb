{
 "cells": [
  {
   "cell_type": "markdown",
   "id": "498731c6",
   "metadata": {},
   "source": [
    "# Actividad - Trabajando con Series de Pandas.\n",
    "## Criterios de evaluación.\n",
    "\n",
    "* Se deben utilizar nombres de variables descriptivos y claros (Utilizar la nomeclatura correspondiente para los nombres de variables).\n",
    "* Comentarios claros y concisos que expliquen el propósito de cada sección del código.\n",
    "* Utilizar mensajes de commit **descriptivos**. (Puedes utilizar la extension CONVENTIONAL COMMIT de VS-CODE). \n",
    "* Entrega en tiempo y forma.\n",
    "* Todo el código desarrollado debe ser subido a un repositorio en GitHub (el nombre del repositorio de seguir la siguiente estructura: actividad_tlp3_nombre_apellido).\n",
    "* Para resolver las actividades se debe insertar casillas de codigo entre cada actividad del cuaderno de Jupyter\n",
    "\n",
    "### ¡Importante!\n",
    "**El incumplimiento de los criterios de evaluación restará puntos en la nota final del práctico!**"
   ]
  },
  {
   "cell_type": "markdown",
   "id": "b361a7b6",
   "metadata": {},
   "source": [
    "### **Actividad 1:** \n",
    "\n",
    "Crear Series desde diferentes estructuras.\n",
    "* Crea una Series con los números del 1 al 5\n",
    "* Crea una Series a partir de un diccionario con nombres de países como claves y sus capitales como valores."
   ]
  },
  {
   "cell_type": "code",
   "execution_count": 2,
   "id": "75fbeaab",
   "metadata": {},
   "outputs": [],
   "source": [
    "#Ejecutar pandas\n",
    "\n",
    "import pandas as pd\n",
    "\n",
    "#Ejecutar random\n",
    "import random as rd"
   ]
  },
  {
   "cell_type": "code",
   "execution_count": null,
   "id": "26009294",
   "metadata": {},
   "outputs": [
    {
     "name": "stdout",
     "output_type": "stream",
     "text": [
      "numeros: 0    1\n",
      "1    2\n",
      "2    3\n",
      "3    4\n",
      "4    5\n",
      "dtype: int64\n",
      "capitales_series:\n",
      "Argentina    Buenos Aires\n",
      "Brasil           Brasilia\n",
      "Chile            Santiago\n",
      "Colombia           Bogotá\n",
      "Peru                 Lima\n",
      "dtype: object\n"
     ]
    }
   ],
   "source": [
    "\n",
    "# todo:\n",
    "\n",
    "\n",
    "numeros = pd.Series([1, 2, 3, 4, 5])\n",
    "print(f\"numeros: {numeros}\" )\n",
    "\n",
    "Paises_capitales={\n",
    "    \"Argentina\": \"Buenos Aires\",\n",
    "    \"Brasil\": \"Brasilia\",\n",
    "    \"Chile\": \"Santiago\",\n",
    "    \"Colombia\": \"Bogotá\",\n",
    "    \"Peru\": \"Lima\",\n",
    "}\n",
    "\n",
    "capitales_series = pd.Series(Paises_capitales)\n",
    "print(f\"capitales_series:\\n{capitales_series}\" )\n",
    "\n"
   ]
  },
  {
   "cell_type": "markdown",
   "id": "0c239195",
   "metadata": {},
   "source": [
    "### **Actividad 2:** \n",
    "Acceso y selección de elementos.\n",
    "* Usa una Series con tareas (que haceres cotidianos) de una semana\n",
    "* Accede a diferentes elementos a elección.\n",
    "* Cambia los valores de los dias pares.\n"
   ]
  },
  {
   "cell_type": "code",
   "execution_count": null,
   "id": "3611d25a",
   "metadata": {},
   "outputs": [],
   "source": [
    "\n",
    "# todo:\n",
    "tareas_semana = pd.Series({\n",
    "    \"Lunes\": \"Estudiar\",\n",
    "    \"Martes\": \"Estudiar\",\n",
    "    \"Miercoles\": \"Estudiar\",\n",
    "    \"Jueves\": \"Estudiar\",\n",
    "    \"Viernes\": \"Descansar\",\n",
    "    \"Sabado\": \"Salir\",\n",
    "    \"Domingo\": \"Descansar\"\n",
    "})\n",
    "\n",
    "print(f\"tareas_semana:\\n{tareas_semana}\" )\n",
    "\n",
    "print(f\"Tarea lunes {tareas_semana['Lunes']}\")\n",
    "\n",
    "print(f\"Tarea martes y domingo {tareas_semana[['Martes', 'Domingo']] }\")\n",
    "\n",
    "\n",
    "tareas_semana['Martes'] = 'Ir al gimnasio'\n",
    "tareas_semana['Jueves'] = 'Ir a hacer deporte'\n",
    "tareas_semana['Sábado'] = 'Descansar'\n",
    "\n",
    "print(f\"tareas_semana:\\n{tareas_semana}\" )\n"
   ]
  },
  {
   "cell_type": "markdown",
   "id": "70a24b97",
   "metadata": {},
   "source": [
    "### **Actividad 3:**\n",
    "Operaciones aritméticas. \n",
    "* Realiza las operaciones basicas con 2 series cuales quieran.\n",
    "* Eleva los valores de la primer serie a 3 potencias difetentes."
   ]
  },
  {
   "cell_type": "code",
   "execution_count": 60,
   "id": "a9c8ebc7",
   "metadata": {},
   "outputs": [
    {
     "name": "stdout",
     "output_type": "stream",
     "text": [
      "Numeros_a:0    1\n",
      "1    1\n",
      "2    1\n",
      "dtype: int64\n",
      "Numeros_b:0    1\n",
      "1    3\n",
      "2    3\n",
      "dtype: int64\n",
      "Suma \n",
      "0    2\n",
      "1    4\n",
      "2    4\n",
      "dtype: int64\n",
      "Resta \n",
      "0    0\n",
      "1   -2\n",
      "2   -2\n",
      "dtype: int64\n",
      "Multiplicacion \n",
      "0    1\n",
      "1    3\n",
      "2    3\n",
      "dtype: int64\n",
      "Division \n",
      "0    1.000000\n",
      "1    0.333333\n",
      "2    0.333333\n",
      "dtype: float64\n",
      "Elevado al cuadrado \n",
      "0    1\n",
      "1    1\n",
      "2    1\n",
      "dtype: int64\n",
      "Elevado al cubo \n",
      "0    1\n",
      "1    1\n",
      "2    1\n",
      "dtype: int64\n",
      "Elevado a la cuarta potencia \n",
      "0    1\n",
      "1    1\n",
      "2    1\n",
      "dtype: int64\n"
     ]
    }
   ],
   "source": [
    "\n",
    "# todo\n",
    "Numeros_a = pd.Series([rd.randint(1, 3) for i in range(3)])\n",
    "Numeros_b = pd.Series([rd.randint(1, 3) for i in range(3)])\n",
    "\n",
    "print(f\"Numeros_a:{Numeros_a}\" )\n",
    "print(f\"Numeros_b:{Numeros_b}\" )\n",
    "\n",
    "Suma = Numeros_a + Numeros_b\n",
    "Resta = Numeros_a - Numeros_b\n",
    "Multiplicacion = Numeros_a * Numeros_b\n",
    "Division = Numeros_a / Numeros_b\n",
    "\n",
    "print(f\"Suma \\n{Suma}\")\n",
    "print(f\"Resta \\n{Resta}\")\n",
    "print(f\"Multiplicacion \\n{Multiplicacion}\")\n",
    "print(f\"Division \\n{Division}\")\n",
    "\n",
    "# Potencias\n",
    "print(f\"Elevado al cuadrado \\n{Numeros_a ** 2}\")\n",
    "print(f\"Elevado al cubo \\n{Numeros_a ** 3}\")\n",
    "print(f\"Elevado a la cuarta potencia \\n{Numeros_a ** 4}\")\n",
    "\n",
    "\n",
    "\n"
   ]
  },
  {
   "cell_type": "markdown",
   "id": "b8dac397",
   "metadata": {},
   "source": [
    "### **Actividad 4:** \n",
    "Filtrado con condiciones.\n",
    "* Crea una Series de edades de 10 personas.\n",
    "* Muestra solo a los mayores de 18.\n",
    "* Reemplaza a los menores por \"Menor de edad\"."
   ]
  },
  {
   "cell_type": "code",
   "execution_count": 10,
   "id": "d04fd492",
   "metadata": {},
   "outputs": [
    {
     "name": "stdout",
     "output_type": "stream",
     "text": [
      "edades: \n",
      "0    15\n",
      "1    22\n",
      "2    17\n",
      "3    30\n",
      "4    19\n",
      "5    16\n",
      "6    40\n",
      "7    28\n",
      "8    14\n",
      "9    35\n",
      "dtype: int64\n",
      "mayores: \n",
      "1    22\n",
      "3    30\n",
      "4    19\n",
      "6    40\n",
      "7    28\n",
      "9    35\n",
      "dtype: int64\n",
      "\n",
      "Series con menores reemplazados:\n",
      "0    Menor de edad\n",
      "1               22\n",
      "2    Menor de edad\n",
      "3               30\n",
      "4               19\n",
      "5    Menor de edad\n",
      "6               40\n",
      "7               28\n",
      "8    Menor de edad\n",
      "9               35\n",
      "dtype: object\n"
     ]
    }
   ],
   "source": [
    "\n",
    "# todo:\n",
    "edades = pd.Series([15, 22, 17, 30, 19, 16, 40, 28, 14, 35])\n",
    "\n",
    "print(f\"edades: \\n{edades}\" )\n",
    "\n",
    "mayores = edades[edades > 18]\n",
    "print(f\"mayores: \\n{mayores}\" )\n",
    "\n",
    "edades_filtradas = edades.copy()\n",
    "edades_filtradas= edades.where(edades >=18, \"Menor de edad\")\n",
    "\n",
    "print(\"\\nSeries con menores reemplazados:\")\n",
    "print(edades_filtradas)\n"
   ]
  },
  {
   "cell_type": "markdown",
   "id": "8889d0f2",
   "metadata": {},
   "source": [
    "### Actividad 5:\n",
    "Estadísticas básicas.\n",
    "\n",
    "* Crea una Series con las notas de 10 estudiantes.\n",
    "* Calcula la media, mediana, desviación estándar y máximo.\n",
    "* Muestra cuántos estudiantes aprobaron si el mínimo para aprobar es 6.\n",
    "* Ordenar las notas de manera ascendente y descendente. "
   ]
  },
  {
   "cell_type": "code",
   "execution_count": 13,
   "id": "bc0ec844",
   "metadata": {},
   "outputs": [
    {
     "name": "stdout",
     "output_type": "stream",
     "text": [
      "notas: \n",
      "0     3\n",
      "1     3\n",
      "2     5\n",
      "3    10\n",
      "4     7\n",
      "5     6\n",
      "6     9\n",
      "7     1\n",
      "8     5\n",
      "9     8\n",
      "dtype: int64\n",
      "\n",
      "Media: 5.7\n",
      "Mediana: 5.5\n",
      "Desviación estándar: 2.869378562220979\n",
      "Nota máxima: 10\n",
      "\n",
      "Cantidad de estudiantes aprobados: 5\n",
      "Notas en orden ascendente: \n",
      "7     1\n",
      "0     3\n",
      "1     3\n",
      "2     5\n",
      "8     5\n",
      "5     6\n",
      "4     7\n",
      "9     8\n",
      "6     9\n",
      "3    10\n",
      "dtype: int64\n",
      "Notas en orden descendente: \n",
      "3    10\n",
      "6     9\n",
      "9     8\n",
      "4     7\n",
      "5     6\n",
      "2     5\n",
      "8     5\n",
      "0     3\n",
      "1     3\n",
      "7     1\n",
      "dtype: int64\n"
     ]
    }
   ],
   "source": [
    "\n",
    "# todo:\n",
    "notas = pd.Series(rd.randint(1, 10) for i in range(10))\n",
    "print(f\"notas: \\n{notas}\" )\n",
    "\n",
    "print(\"\\nMedia:\", notas.mean())\n",
    "print(\"Mediana:\", notas.median())\n",
    "print(\"Desviación estándar:\", notas.std())\n",
    "print(\"Nota máxima:\", notas.max())\n",
    "\n",
    "aprobados = notas[notas >= 6]\n",
    "print(\"\\nCantidad de estudiantes aprobados:\", len(aprobados))\n",
    "\n",
    "print(f\"Notas en orden ascendente: \\n{notas.sort_values(ascending=True)}\")\n",
    "print(f\"Notas en orden descendente: \\n{notas.sort_values(ascending=False)}\")"
   ]
  }
 ],
 "metadata": {
  "kernelspec": {
   "display_name": "Python 3",
   "language": "python",
   "name": "python3"
  },
  "language_info": {
   "codemirror_mode": {
    "name": "ipython",
    "version": 3
   },
   "file_extension": ".py",
   "mimetype": "text/x-python",
   "name": "python",
   "nbconvert_exporter": "python",
   "pygments_lexer": "ipython3",
   "version": "3.13.2"
  }
 },
 "nbformat": 4,
 "nbformat_minor": 5
}
